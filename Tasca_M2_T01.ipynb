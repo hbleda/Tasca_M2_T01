{
 "cells": [
  {
   "cell_type": "markdown",
   "id": "8c5b491d",
   "metadata": {},
   "source": [
    "# Exercici 1\n",
    "\n",
    "Crea una llista que agrupi els mesos de l’any en trimestres (1T: gener, febrer i març; 2T: abril, maig, juny...), és a dir, una llista amb 4 llistes dins:\n",
    "\n",
    "Creamos una lista vacía y añadimos las 4 listas que representan cada uno de los trimestres."
   ]
  },
  {
   "cell_type": "code",
   "execution_count": 1,
   "id": "af36eb90",
   "metadata": {
    "scrolled": true
   },
   "outputs": [
    {
     "name": "stdout",
     "output_type": "stream",
     "text": [
      "[['enero', 'febrero', 'marzo'], ['abril', 'mayo', 'junio'], ['julio', 'agosto', 'septiembre'], ['octubre', 'noviembre', 'diciembre']]\n"
     ]
    }
   ],
   "source": [
    "mesesAnyo = []\n",
    "primerTri=[\"enero\", \"febrero\",\"marzo\"]\n",
    "segunTri=[\"abril\",\"mayo\",\"junio\"]\n",
    "terceTri=[\"julio\", \"agosto\",\"septiembre\"]\n",
    "cuartTri=[\"octubre\",\"noviembre\",\"diciembre\"]\n",
    "mesesAnyo.append(primerTri)\n",
    "mesesAnyo.append(segunTri)\n",
    "mesesAnyo.append(terceTri)\n",
    "mesesAnyo.append(cuartTri)\n",
    "print(mesesAnyo)"
   ]
  },
  {
   "cell_type": "markdown",
   "id": "e9a6ec72",
   "metadata": {},
   "source": [
    "# Exercici 2\n",
    "\n",
    "Crea un codi que et permeti accedir a:\n",
    "\n",
    "El segon mes del primer trimestre:"
   ]
  },
  {
   "cell_type": "code",
   "execution_count": 2,
   "id": "ad25efef",
   "metadata": {},
   "outputs": [
    {
     "name": "stdout",
     "output_type": "stream",
     "text": [
      "febrero\n"
     ]
    }
   ],
   "source": [
    "print(mesesAnyo[0][1])"
   ]
  },
  {
   "cell_type": "markdown",
   "id": "8e74a1ae",
   "metadata": {},
   "source": [
    "Els mesos del primer trimestre:"
   ]
  },
  {
   "cell_type": "code",
   "execution_count": 3,
   "id": "9651723a",
   "metadata": {},
   "outputs": [
    {
     "name": "stdout",
     "output_type": "stream",
     "text": [
      "enero, febrero y marzo\n"
     ]
    }
   ],
   "source": [
    "print(mesesAnyo[0][0]+\", \"+mesesAnyo[0][1]+\" y \"+mesesAnyo[0][2])"
   ]
  },
  {
   "cell_type": "markdown",
   "id": "4d77ca65",
   "metadata": {},
   "source": [
    "Setembre i octubre:"
   ]
  },
  {
   "cell_type": "code",
   "execution_count": 4,
   "id": "ca9c6717",
   "metadata": {},
   "outputs": [
    {
     "name": "stdout",
     "output_type": "stream",
     "text": [
      "septiembre y octubre\n"
     ]
    }
   ],
   "source": [
    "print(mesesAnyo[2][2]+\" y \" +mesesAnyo[3][0])"
   ]
  },
  {
   "cell_type": "markdown",
   "id": "3cf060ef",
   "metadata": {},
   "source": [
    "# Exercici 3\n",
    "\n",
    "Crea una llista amb nombres desordenats i respon a les següents preguntes:\n",
    "\n",
    "Quants números hi ha?"
   ]
  },
  {
   "cell_type": "code",
   "execution_count": 5,
   "id": "a5f09303",
   "metadata": {},
   "outputs": [
    {
     "name": "stdout",
     "output_type": "stream",
     "text": [
      "18\n"
     ]
    }
   ],
   "source": [
    "lista = [4,56,3,57,28,25,35,67,110,59,82,37,3,46,67,98,235,38]\n",
    "print(len(lista))"
   ]
  },
  {
   "cell_type": "markdown",
   "id": "af633012",
   "metadata": {},
   "source": [
    "Quantes vegades apareix el número 3?"
   ]
  },
  {
   "cell_type": "code",
   "execution_count": 6,
   "id": "9970d452",
   "metadata": {},
   "outputs": [
    {
     "name": "stdout",
     "output_type": "stream",
     "text": [
      "2\n"
     ]
    }
   ],
   "source": [
    "print(lista.count(3))"
   ]
  },
  {
   "cell_type": "markdown",
   "id": "09e839f2",
   "metadata": {},
   "source": [
    "Quantes vegades apareixen els nombres 3 i 4?"
   ]
  },
  {
   "cell_type": "code",
   "execution_count": 7,
   "id": "3efa8aa4",
   "metadata": {},
   "outputs": [
    {
     "name": "stdout",
     "output_type": "stream",
     "text": [
      "3\n"
     ]
    }
   ],
   "source": [
    "print(lista.count(3)+lista.count(4))"
   ]
  },
  {
   "cell_type": "markdown",
   "id": "c42375a6",
   "metadata": {},
   "source": [
    "Quin és el número més gran?"
   ]
  },
  {
   "cell_type": "code",
   "execution_count": 8,
   "id": "da51d35d",
   "metadata": {},
   "outputs": [
    {
     "name": "stdout",
     "output_type": "stream",
     "text": [
      "235\n"
     ]
    }
   ],
   "source": [
    "print(max(lista))"
   ]
  },
  {
   "cell_type": "markdown",
   "id": "fdda1ed8",
   "metadata": {},
   "source": [
    "Quins són els 3 números més petits?\n",
    "\n",
    "Para este caso, importo el paquete heapq que tiene la función nsmallest (permite buscar los n valores más bajos) y lo aplico sobre el resultado de aplicar set() a la lista, de manera que elimino los duplicados."
   ]
  },
  {
   "cell_type": "code",
   "execution_count": 9,
   "id": "08c97303",
   "metadata": {},
   "outputs": [
    {
     "name": "stdout",
     "output_type": "stream",
     "text": [
      "[3, 4, 25]\n"
     ]
    }
   ],
   "source": [
    "import heapq\n",
    "print(heapq.nsmallest(3,set(lista)))"
   ]
  },
  {
   "cell_type": "markdown",
   "id": "55b2f1a1",
   "metadata": {},
   "source": [
    "Quin és el rang d’aquesta llista?\n",
    "\n",
    "Obtengo el valor de restar al número más grande, el valor más pequeño de la lista"
   ]
  },
  {
   "cell_type": "code",
   "execution_count": 10,
   "id": "868ef69d",
   "metadata": {},
   "outputs": [
    {
     "name": "stdout",
     "output_type": "stream",
     "text": [
      "232\n"
     ]
    }
   ],
   "source": [
    "print(max(lista)-min(lista))"
   ]
  },
  {
   "cell_type": "markdown",
   "id": "b33f73be",
   "metadata": {},
   "source": [
    "# Exercici 4\n",
    "\n",
    "Crea un diccionari de la següent forma i respon a les preguntes:"
   ]
  },
  {
   "cell_type": "code",
   "execution_count": 4,
   "id": "8c684af4",
   "metadata": {},
   "outputs": [
    {
     "name": "stdout",
     "output_type": "stream",
     "text": [
      "{'Pomes': {'Qty': 5, '€': 0.42}, 'Peres': {'Qty': 3, '€': 0.66}}\n"
     ]
    }
   ],
   "source": [
    "compra = { \"Pomes\" : {\"Qty\": 5, \"€\": 0.42}, \"Peres\" : {\"Qty\": 3, \"€\": 0.66} }\n",
    "print(compra)"
   ]
  },
  {
   "cell_type": "markdown",
   "id": "48533b02",
   "metadata": {},
   "source": [
    "Afegeix alguna fruita més"
   ]
  },
  {
   "cell_type": "code",
   "execution_count": 5,
   "id": "216451cd",
   "metadata": {},
   "outputs": [
    {
     "name": "stdout",
     "output_type": "stream",
     "text": [
      "{'Pomes': {'Qty': 5, '€': 0.42}, 'Peres': {'Qty': 3, '€': 0.66}, 'Platans': {'Qty': 6, '€': 0.55}}\n"
     ]
    }
   ],
   "source": [
    "compra[\"Platans\"]= {\"Qty\": 6, \"€\": 0.55}\n",
    "print(compra)"
   ]
  },
  {
   "cell_type": "markdown",
   "id": "73fc2a0a",
   "metadata": {},
   "source": [
    "Quant han costat les peres en total?"
   ]
  },
  {
   "cell_type": "code",
   "execution_count": 6,
   "id": "4118364c",
   "metadata": {},
   "outputs": [
    {
     "name": "stdout",
     "output_type": "stream",
     "text": [
      "1.98\n"
     ]
    }
   ],
   "source": [
    "print(compra[\"Peres\"][\"Qty\"] * compra[\"Peres\"][\"€\"])"
   ]
  },
  {
   "cell_type": "markdown",
   "id": "1bca9a70",
   "metadata": {},
   "source": [
    "Quantes fruites hem comprat en total?"
   ]
  },
  {
   "cell_type": "code",
   "execution_count": 7,
   "id": "f81768ca",
   "metadata": {},
   "outputs": [
    {
     "name": "stdout",
     "output_type": "stream",
     "text": [
      "14\n"
     ]
    }
   ],
   "source": [
    "print(sum(compra[x][\"Qty\"] for x in compra))"
   ]
  },
  {
   "cell_type": "markdown",
   "id": "bc5968f6",
   "metadata": {},
   "source": [
    "Quina és la fruita més cara?"
   ]
  },
  {
   "cell_type": "code",
   "execution_count": 9,
   "id": "85e35568",
   "metadata": {},
   "outputs": [
    {
     "name": "stdout",
     "output_type": "stream",
     "text": [
      "Peres\n"
     ]
    }
   ],
   "source": [
    "print(max(compra, key = lambda k: compra[k][\"€\"]))\n"
   ]
  },
  {
   "cell_type": "code",
   "execution_count": null,
   "id": "1e6f8cd4",
   "metadata": {},
   "outputs": [],
   "source": []
  }
 ],
 "metadata": {
  "kernelspec": {
   "display_name": "Python 3 (ipykernel)",
   "language": "python",
   "name": "python3"
  },
  "language_info": {
   "codemirror_mode": {
    "name": "ipython",
    "version": 3
   },
   "file_extension": ".py",
   "mimetype": "text/x-python",
   "name": "python",
   "nbconvert_exporter": "python",
   "pygments_lexer": "ipython3",
   "version": "3.10.9"
  }
 },
 "nbformat": 4,
 "nbformat_minor": 5
}
